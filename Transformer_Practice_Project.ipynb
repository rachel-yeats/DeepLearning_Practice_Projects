{
 "cells": [
  {
   "cell_type": "code",
   "execution_count": 1,
   "metadata": {},
   "outputs": [],
   "source": [
    "import torch\n",
    "import torch.nn as nn\n",
    "import math\n",
    "import torchvision\n",
    "import torchvision.transforms as transforms"
   ]
  },
  {
   "cell_type": "code",
   "execution_count": 16,
   "metadata": {},
   "outputs": [],
   "source": [
    "class MultiHeadAttention(nn.Module):\n",
    "    def __init__(self, embed_dim, num_heads):\n",
    "        super(MultiHeadAttention, self).__init__()\n",
    "        self.linear_q = nn.Linear(embed_dim, embed_dim)\n",
    "        self.linear_k = nn.Linear(embed_dim, embed_dim)\n",
    "        self.linear_v = nn.Linear(embed_dim, embed_dim)\n",
    "        self.num_heads = num_heads\n",
    "\n",
    "    # Reshape the input tensor from (B, N, C) to (B * num_heads, N, C // num_heads)\n",
    "    def _reshape_to_batches(self, x):\n",
    "        batch_size, seq_len, embed_dim = x.size()\n",
    "        sub_dim = embed_dim // self.num_heads\n",
    "        x = x.reshape(batch_size, seq_len, self.num_heads, sub_dim)\n",
    "        x = x.permute(0, 2, 1, 3)\n",
    "        x = x.reshape(batch_size * self.num_heads, seq_len, sub_dim)\n",
    "        return x\n",
    "\n",
    "    # Reshape the input tensor from (B * num_heads, N, C // num_heads) to (B, N, C)\n",
    "    def _reshape_from_batches(self, x):\n",
    "        batch_size, seq_len, sub_dim = x.size()\n",
    "        batch_size //= self.num_heads\n",
    "        embed_dim = sub_dim * self.num_heads\n",
    "        x = x.reshape(batch_size, self.num_heads, seq_len, sub_dim)\n",
    "        x = x.permute(0, 2, 1, 3)\n",
    "        x = x.reshape(batch_size, seq_len, embed_dim)\n",
    "        return x\n",
    "\n",
    "    def forward(self, x):\n",
    "        \"\"\"\n",
    "        :param x: (B, N, C).\n",
    "        \"\"\"\n",
    "        # Obtain Query, Key and Value by linear transformation\n",
    "        x_q = self.linear_q(x)\n",
    "        x_k = self.linear_k(x)\n",
    "        x_v = self.linear_v(x)\n",
    "        if self.num_heads > 1:\n",
    "            x_q = self._reshape_to_batches(x_q)\n",
    "            x_k = self._reshape_to_batches(x_k)\n",
    "            x_v = self._reshape_to_batches(x_v)\n",
    "\n",
    "        # Matmul between Query and Key\n",
    "        qk = torch.bmm(x_q, x_k.permute(0, 2, 1))      # (B, N, N)\n",
    "\n",
    "        # Apply scale factor\n",
    "        dk = x_q.shape[-1]\n",
    "        qk = qk / math.sqrt(dk)        # (B, N, N)\n",
    "\n",
    "        # Compute attention scores with softmax\n",
    "        attn = qk.softmax(-1)       # (B, N, N)\n",
    "\n",
    "        # Weight Value by attention scores\n",
    "        out = torch.bmm(attn, x_v)      # (B, N, C)\n",
    "        if self.num_heads > 1:\n",
    "            out = self._reshape_from_batches(out)\n",
    "        return out"
   ]
  },
  {
   "cell_type": "code",
   "execution_count": 17,
   "metadata": {},
   "outputs": [],
   "source": [
    "class TransformerEncoderLayer(nn.Module):\n",
    "    def __init__(self, embed_dim, num_heads):\n",
    "        super(TransformerEncoderLayer, self).__init__()\n",
    "        self.attn = MultiHeadAttention(embed_dim, num_heads)\n",
    "        self.feed_forward = nn.Sequential(\n",
    "            nn.Linear(embed_dim, embed_dim),\n",
    "            nn.ReLU(),\n",
    "            nn.Linear(embed_dim, embed_dim)\n",
    "        )\n",
    "\n",
    "    def forward(self, x):\n",
    "        \"\"\"\n",
    "        :param x: (B, N, C).\n",
    "        \"\"\"\n",
    "        x = self.attn(x)        # (B, N, C)\n",
    "        out = self.feed_forward(x)      # (B, N, C)\n",
    "        return out"
   ]
  },
  {
   "cell_type": "code",
   "execution_count": 18,
   "metadata": {},
   "outputs": [],
   "source": [
    "class TransformerImageClassifier(nn.Module):\n",
    "    def __init__(self,\n",
    "                 input_dim,\n",
    "                 num_layers,\n",
    "                 transformer_embed_dim,\n",
    "                 transformer_num_heads,\n",
    "                 num_classes):\n",
    "        super(TransformerImageClassifier, self).__init__()\n",
    "        self.fc1 = nn.Linear(input_dim, transformer_embed_dim)\n",
    "        self.transformer_layers = nn.ModuleList()\n",
    "        for l in range(num_layers):\n",
    "            self.transformer_layers.append(TransformerEncoderLayer(\n",
    "                embed_dim=transformer_embed_dim,\n",
    "                num_heads=transformer_num_heads\n",
    "            ))\n",
    "        self.fc2 = nn.Linear(transformer_embed_dim, num_classes)\n",
    "\n",
    "    def forward(self, x):\n",
    "        \"\"\"\n",
    "        :param x: (B, N, C_in).\n",
    "        \"\"\"\n",
    "        x = self.fc1(x)     # (B, N, C)\n",
    "        for transformer_layer in self.transformer_layers:\n",
    "            x = transformer_layer(x)      # (B, N, C)\n",
    "\n",
    "        # Merge the information of all elements\n",
    "        x, _ = torch.max(x, dim=1)      # (B, C)\n",
    "        out = self.fc2(x)     # (B, num_classes)\n",
    "        return out"
   ]
  },
  {
   "cell_type": "code",
   "execution_count": 19,
   "metadata": {},
   "outputs": [
    {
     "name": "stdout",
     "output_type": "stream",
     "text": [
      "torch.Size([4, 100, 32])\n",
      "torch.Size([4, 10])\n"
     ]
    }
   ],
   "source": [
    "device = torch.device(\"cuda:0\" if torch.cuda.is_available() else \"cpu\")\n",
    "\n",
    "# Hyperparameters\n",
    "input_dim = 20\n",
    "num_layers = 1  # 2\n",
    "transformer_embed_dim = 32\n",
    "transformer_num_heads = 1   # 8\n",
    "num_classes = 10\n",
    "\n",
    "# Unit-test for Attention module\n",
    "attn = MultiHeadAttention(embed_dim=transformer_embed_dim,\n",
    "                            num_heads=transformer_num_heads)\n",
    "attn = attn.to(device)\n",
    "x = torch.randn(4, 100, 32).to(device)\n",
    "out = attn(x)\n",
    "print(out.shape)\n",
    "\n",
    "# Unit-test for Transformer network\n",
    "model = TransformerImageClassifier(input_dim, num_layers, transformer_embed_dim, transformer_num_heads, num_classes)\n",
    "model.to(device)\n",
    "x = torch.randn(4, 100, 20).to(device)\n",
    "out = model(x)\n",
    "print(out.shape)"
   ]
  },
  {
   "cell_type": "code",
   "execution_count": 20,
   "metadata": {},
   "outputs": [],
   "source": [
    "def create_dataloader():\n",
    "    # MNIST dataset\n",
    "    train_dataset = torchvision.datasets.MNIST(root='root',\n",
    "                                               train=True,\n",
    "                                               download=True,\n",
    "                                               transform=transforms.ToTensor())\n",
    "\n",
    "    test_dataset = torchvision.datasets.MNIST(root='root',\n",
    "                                              train=False,\n",
    "                                              download=True,\n",
    "                                              transform=transforms.ToTensor())\n",
    "\n",
    "    # Data loader\n",
    "    train_loader = torch.utils.data.DataLoader(dataset=train_dataset,\n",
    "                                               batch_size=64,\n",
    "                                               shuffle=True)\n",
    "\n",
    "    test_loader = torch.utils.data.DataLoader(dataset=test_dataset,\n",
    "                                              batch_size=64,\n",
    "                                              shuffle=False)\n",
    "\n",
    "    return train_loader, test_loader"
   ]
  },
  {
   "cell_type": "code",
   "execution_count": 21,
   "metadata": {},
   "outputs": [],
   "source": [
    "def train(train_loader, model, criterion, optimizer, num_epochs):\n",
    "    # Train the model\n",
    "    total_step = len(train_loader)\n",
    "    for epoch in range(num_epochs):\n",
    "        for step, (images, labels) in enumerate(train_loader):\n",
    "            images = images.to(device)\n",
    "            labels = labels.to(device)\n",
    "            images = images.reshape(-1, 28, 28)\n",
    "\n",
    "            # Forward pass\n",
    "            outputs = model(images)\n",
    "            loss = criterion(outputs, labels)\n",
    "\n",
    "            # Backward and optimize\n",
    "            optimizer.zero_grad()\n",
    "            loss.backward()\n",
    "            optimizer.step()\n",
    "\n",
    "            if (step + 1) % 100 == 0:\n",
    "                print('Epoch [{}/{}], Step [{}/{}], Loss: {:.4f}'\n",
    "                      .format(epoch + 1, num_epochs, step + 1, total_step, loss.item()))"
   ]
  },
  {
   "cell_type": "code",
   "execution_count": 22,
   "metadata": {},
   "outputs": [],
   "source": [
    "def test(test_loader, model):\n",
    "    # Test the model\n",
    "    with torch.no_grad():\n",
    "        correct = 0\n",
    "        total = 0\n",
    "        for images, labels in test_loader:\n",
    "            images = images.to(device)\n",
    "            labels = labels.to(device)\n",
    "            images = images.reshape(-1, 28, 28)\n",
    "            \n",
    "            outputs = model(images)\n",
    "            _, predicted = torch.max(outputs.data, 1)\n",
    "            total += labels.size(0)\n",
    "            correct += (predicted == labels).sum().item()\n",
    "\n",
    "        print('Accuracy of the network on the 10000 test images: {} %'.format(100 * correct / total))"
   ]
  },
  {
   "cell_type": "code",
   "execution_count": 23,
   "metadata": {},
   "outputs": [
    {
     "name": "stdout",
     "output_type": "stream",
     "text": [
      "Downloading http://yann.lecun.com/exdb/mnist/train-images-idx3-ubyte.gz\n",
      "Failed to download (trying next):\n",
      "HTTP Error 403: Forbidden\n",
      "\n",
      "Downloading https://ossci-datasets.s3.amazonaws.com/mnist/train-images-idx3-ubyte.gz\n",
      "Downloading https://ossci-datasets.s3.amazonaws.com/mnist/train-images-idx3-ubyte.gz to root/MNIST/raw/train-images-idx3-ubyte.gz\n"
     ]
    },
    {
     "name": "stderr",
     "output_type": "stream",
     "text": [
      "100%|██████████| 9912422/9912422 [00:17<00:00, 577140.30it/s] \n"
     ]
    },
    {
     "name": "stdout",
     "output_type": "stream",
     "text": [
      "Extracting root/MNIST/raw/train-images-idx3-ubyte.gz to root/MNIST/raw\n",
      "\n",
      "Downloading http://yann.lecun.com/exdb/mnist/train-labels-idx1-ubyte.gz\n",
      "Failed to download (trying next):\n",
      "HTTP Error 403: Forbidden\n",
      "\n",
      "Downloading https://ossci-datasets.s3.amazonaws.com/mnist/train-labels-idx1-ubyte.gz\n",
      "Downloading https://ossci-datasets.s3.amazonaws.com/mnist/train-labels-idx1-ubyte.gz to root/MNIST/raw/train-labels-idx1-ubyte.gz\n"
     ]
    },
    {
     "name": "stderr",
     "output_type": "stream",
     "text": [
      "100%|██████████| 28881/28881 [00:00<00:00, 136539.54it/s]\n"
     ]
    },
    {
     "name": "stdout",
     "output_type": "stream",
     "text": [
      "Extracting root/MNIST/raw/train-labels-idx1-ubyte.gz to root/MNIST/raw\n",
      "\n",
      "Downloading http://yann.lecun.com/exdb/mnist/t10k-images-idx3-ubyte.gz\n",
      "Failed to download (trying next):\n",
      "HTTP Error 403: Forbidden\n",
      "\n",
      "Downloading https://ossci-datasets.s3.amazonaws.com/mnist/t10k-images-idx3-ubyte.gz\n",
      "Downloading https://ossci-datasets.s3.amazonaws.com/mnist/t10k-images-idx3-ubyte.gz to root/MNIST/raw/t10k-images-idx3-ubyte.gz\n"
     ]
    },
    {
     "name": "stderr",
     "output_type": "stream",
     "text": [
      "100%|██████████| 1648877/1648877 [00:02<00:00, 696925.85it/s]\n"
     ]
    },
    {
     "name": "stdout",
     "output_type": "stream",
     "text": [
      "Extracting root/MNIST/raw/t10k-images-idx3-ubyte.gz to root/MNIST/raw\n",
      "\n",
      "Downloading http://yann.lecun.com/exdb/mnist/t10k-labels-idx1-ubyte.gz\n",
      "Failed to download (trying next):\n",
      "HTTP Error 403: Forbidden\n",
      "\n",
      "Downloading https://ossci-datasets.s3.amazonaws.com/mnist/t10k-labels-idx1-ubyte.gz\n",
      "Downloading https://ossci-datasets.s3.amazonaws.com/mnist/t10k-labels-idx1-ubyte.gz to root/MNIST/raw/t10k-labels-idx1-ubyte.gz\n"
     ]
    },
    {
     "name": "stderr",
     "output_type": "stream",
     "text": [
      "100%|██████████| 4542/4542 [00:00<00:00, 1159284.90it/s]\n"
     ]
    },
    {
     "name": "stdout",
     "output_type": "stream",
     "text": [
      "Extracting root/MNIST/raw/t10k-labels-idx1-ubyte.gz to root/MNIST/raw\n",
      "\n",
      "Epoch [1/5], Step [100/938], Loss: 2.0232\n",
      "Epoch [1/5], Step [200/938], Loss: 1.6656\n",
      "Epoch [1/5], Step [300/938], Loss: 1.2335\n",
      "Epoch [1/5], Step [400/938], Loss: 1.5771\n",
      "Epoch [1/5], Step [500/938], Loss: 1.1899\n",
      "Epoch [1/5], Step [600/938], Loss: 1.4120\n",
      "Epoch [1/5], Step [700/938], Loss: 1.4072\n",
      "Epoch [1/5], Step [800/938], Loss: 0.9263\n",
      "Epoch [1/5], Step [900/938], Loss: 1.0644\n",
      "Epoch [2/5], Step [100/938], Loss: 1.0740\n",
      "Epoch [2/5], Step [200/938], Loss: 1.1407\n",
      "Epoch [2/5], Step [300/938], Loss: 1.1531\n",
      "Epoch [2/5], Step [400/938], Loss: 1.1012\n",
      "Epoch [2/5], Step [500/938], Loss: 1.1540\n",
      "Epoch [2/5], Step [600/938], Loss: 1.1275\n",
      "Epoch [2/5], Step [700/938], Loss: 1.1825\n",
      "Epoch [2/5], Step [800/938], Loss: 1.2798\n",
      "Epoch [2/5], Step [900/938], Loss: 0.9894\n",
      "Epoch [3/5], Step [100/938], Loss: 0.9308\n",
      "Epoch [3/5], Step [200/938], Loss: 0.8015\n",
      "Epoch [3/5], Step [300/938], Loss: 0.9995\n",
      "Epoch [3/5], Step [400/938], Loss: 0.8802\n",
      "Epoch [3/5], Step [500/938], Loss: 1.0106\n",
      "Epoch [3/5], Step [600/938], Loss: 0.9570\n",
      "Epoch [3/5], Step [700/938], Loss: 1.0930\n",
      "Epoch [3/5], Step [800/938], Loss: 1.1255\n",
      "Epoch [3/5], Step [900/938], Loss: 1.0685\n",
      "Epoch [4/5], Step [100/938], Loss: 0.9521\n",
      "Epoch [4/5], Step [200/938], Loss: 0.9107\n",
      "Epoch [4/5], Step [300/938], Loss: 0.8674\n",
      "Epoch [4/5], Step [400/938], Loss: 1.1775\n",
      "Epoch [4/5], Step [500/938], Loss: 0.8629\n",
      "Epoch [4/5], Step [600/938], Loss: 0.8955\n",
      "Epoch [4/5], Step [700/938], Loss: 1.2553\n",
      "Epoch [4/5], Step [800/938], Loss: 0.7429\n",
      "Epoch [4/5], Step [900/938], Loss: 0.7449\n",
      "Epoch [5/5], Step [100/938], Loss: 0.7923\n",
      "Epoch [5/5], Step [200/938], Loss: 0.8355\n",
      "Epoch [5/5], Step [300/938], Loss: 0.6059\n",
      "Epoch [5/5], Step [400/938], Loss: 0.8139\n",
      "Epoch [5/5], Step [500/938], Loss: 0.6198\n",
      "Epoch [5/5], Step [600/938], Loss: 0.9724\n",
      "Epoch [5/5], Step [700/938], Loss: 0.8784\n",
      "Epoch [5/5], Step [800/938], Loss: 0.6529\n",
      "Epoch [5/5], Step [900/938], Loss: 0.5810\n",
      "Accuracy of the network on the 10000 test images: 75.07 %\n"
     ]
    }
   ],
   "source": [
    "# Hyperparameters\n",
    "input_dim = 28\n",
    "num_layers = 1\n",
    "transformer_embed_dim = 32\n",
    "transformer_num_heads = 1\n",
    "num_classes = 10\n",
    "\n",
    "### step 1: prepare dataset and create dataloader\n",
    "train_loader, test_loader = create_dataloader()\n",
    "\n",
    "### step 2: create neural network\n",
    "model = TransformerImageClassifier(input_dim,\n",
    "                                    num_layers,\n",
    "                                    transformer_embed_dim,\n",
    "                                    transformer_num_heads,\n",
    "                                    num_classes)\n",
    "model.to(device)\n",
    "\n",
    "# Loss and optimizer\n",
    "criterion = nn.CrossEntropyLoss()\n",
    "optimizer = torch.optim.Adam(model.parameters(), lr=0.001)\n",
    "\n",
    "### step 3: train the model\n",
    "train(train_loader, model, criterion, optimizer, num_epochs=5)\n",
    "\n",
    "### step 4: test the model\n",
    "test(test_loader, model)"
   ]
  }
 ],
 "metadata": {
  "kernelspec": {
   "display_name": "torch",
   "language": "python",
   "name": "python3"
  },
  "language_info": {
   "codemirror_mode": {
    "name": "ipython",
    "version": 3
   },
   "file_extension": ".py",
   "mimetype": "text/x-python",
   "name": "python",
   "nbconvert_exporter": "python",
   "pygments_lexer": "ipython3",
   "version": "3.9.18"
  }
 },
 "nbformat": 4,
 "nbformat_minor": 2
}
