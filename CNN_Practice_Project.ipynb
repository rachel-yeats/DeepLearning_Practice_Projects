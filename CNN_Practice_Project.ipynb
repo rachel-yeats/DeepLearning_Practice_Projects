{
 "cells": [
  {
   "cell_type": "markdown",
   "metadata": {},
   "source": [
    "### **CNN Tutorial**\n"
   ]
  },
  {
   "cell_type": "code",
   "execution_count": 1,
   "metadata": {},
   "outputs": [],
   "source": [
    "import torch\n",
    "import torch.utils.data.dataloader as dataloader\n",
    "import torch.nn as nn\n",
    "import torch.optim as optim\n",
    "import torch.nn.functional as F\n",
    "import torchvision.transforms as transforms\n",
    "import torchvision.datasets as datasets\n",
    "\n",
    "import matplotlib.pyplot as plt\n",
    "%matplotlib inline\n",
    "\n",
    "device = torch.device('cuda' if torch.cuda.is_available() else 'cpu')"
   ]
  },
  {
   "cell_type": "markdown",
   "metadata": {},
   "source": [
    "### **FashionMnist Dataset**"
   ]
  },
  {
   "cell_type": "code",
   "execution_count": 2,
   "metadata": {},
   "outputs": [],
   "source": [
    "# Load the FashionMnist Dataset\n",
    "train_dataset = datasets.FashionMNIST(root='data/', train=True, transform=transforms.ToTensor(), download=True)\n",
    "test_dataset = datasets.FashionMNIST(root='data/', train=False, transform=transforms.ToTensor(), download=True)"
   ]
  },
  {
   "cell_type": "code",
   "execution_count": 3,
   "metadata": {},
   "outputs": [
    {
     "name": "stdout",
     "output_type": "stream",
     "text": [
      "torch.Size([60000, 28, 28])\n",
      "torch.Size([10000, 28, 28])\n",
      "['T-shirt/top', 'Trouser', 'Pullover', 'Dress', 'Coat', 'Sandal', 'Shirt', 'Sneaker', 'Bag', 'Ankle boot']\n"
     ]
    }
   ],
   "source": [
    "# Print the shape\n",
    "print(train_dataset.data.shape)\n",
    "print(test_dataset.data.shape)\n",
    "\n",
    "# Print the label names\n",
    "print(train_dataset.classes)"
   ]
  },
  {
   "cell_type": "code",
   "execution_count": 4,
   "metadata": {},
   "outputs": [
    {
     "data": {
      "image/png": "[encoded data removed]",
      "text/plain": [
       "<Figure size 500x500 with 9 Axes>"
      ]
     },
     "metadata": {},
     "output_type": "display_data"
    }
   ],
   "source": [
    "# Show 9 images and their lables\n",
    "plt.figure(figsize=(5, 5))\n",
    "for i in range(9):\n",
    "    plt.subplot(3, 3, i+1)\n",
    "    plt.imshow(train_dataset.data[i], cmap='gray')\n",
    "    plt.title(train_dataset.classes[train_dataset.targets[i]])\n",
    "    plt.axis('off')\n",
    "plt.show()"
   ]
  },
  {
   "cell_type": "code",
   "execution_count": 5,
   "metadata": {},
   "outputs": [],
   "source": [
    "# Prepare the Data\n",
    "train_loader = dataloader.DataLoader(dataset=train_dataset, batch_size=32, shuffle=True)\n",
    "test_loader = dataloader.DataLoader(dataset=test_dataset, batch_size=32, shuffle=True)"
   ]
  },
  {
   "cell_type": "markdown",
   "metadata": {},
   "source": [
    "### **Build a CNN model**\n",
    "\n",
    "Remember:\n",
    "$$ H_{out} = \\frac{H_{in}-kernel\\_size + 2*padding}{stride} + 1$$\n",
    "$$ W_{out} = \\frac{W_{in}-kernel\\_size + 2*padding}{stride} + 1$$"
   ]
  },
  {
   "cell_type": "code",
   "execution_count": 6,
   "metadata": {},
   "outputs": [],
   "source": [
    "class CNN(nn.Module):\n",
    "    def __init__(self):\n",
    "        super(CNN, self).__init__()\n",
    "        self.conv1 = nn.Conv2d(in_channels=1, out_channels=8, kernel_size=3, stride=1, padding=0) \n",
    "        self.pool = nn.MaxPool2d(kernel_size=2, stride=2)\n",
    "        self.conv2 = nn.Conv2d(in_channels=8, out_channels=16, kernel_size=3, stride=1, padding=0)\n",
    "        self.fc1 = nn.Linear(16*5*5, 128)\n",
    "        self.fc2 = nn.Linear(128, 10)\n",
    "\n",
    "    def forward(self, x):\n",
    "        x = F.relu(self.conv1(x)) # output shape: (8, 26, 26)\n",
    "        x = self.pool(x) # output shape: (8, 13, 13)\n",
    "        x = F.relu(self.conv2(x)) # output shape: (16, 11, 11)\n",
    "        x = self.pool(x) # output shape: (16, 5, 5)\n",
    "        x = x.view(x.size(0), -1)  # flatten the tensor\n",
    "        x = F.relu(self.fc1(x))\n",
    "        x = self.fc2(x)\n",
    "        return x"
   ]
  },
  {
   "cell_type": "code",
   "execution_count": 7,
   "metadata": {},
   "outputs": [],
   "source": [
    "# Initialize the model\n",
    "model = CNN().to(device)\n",
    "loss = nn.CrossEntropyLoss().to(device)\n",
    "optimizer = optim.Adam(model.parameters(), lr=0.001)"
   ]
  },
  {
   "cell_type": "markdown",
   "metadata": {},
   "source": [
    "### **Train the Data**"
   ]
  },
  {
   "cell_type": "code",
   "execution_count": null,
   "metadata": {},
   "outputs": [],
   "source": [
    "def main(n_epochs, model, loss, optimizer, train_loader, test_loader):\n",
    "    training_loss = []\n",
    "    testing_loss = []\n",
    "    testing_accuracy = []\n",
    "\n",
    "    for epoch in range(1, n_epochs+1):\n",
    "        # Training\n",
    "        running_loss = 0.0\n",
    "        model.train()\n",
    "        for inputs, labels in train_loader:\n",
    "            inputs, labels = inputs.to(device), labels.to(device)\n",
    "\n",
    "            optimizer.zero_grad()\n",
    "            outputs = model(inputs)\n",
    "            loss_val = loss(outputs, labels)\n",
    "            loss_val.backward()\n",
    "            optimizer.step()\n",
    "\n",
    "            running_loss += loss_val.item()\n",
    "\n",
    "        train_loss = running_loss / len(train_loader)\n",
    "        training_loss.append(train_loss)\n",
    "\n",
    "        # Testing\n",
    "        model.eval()\n",
    "        eval_loss = 0.0\n",
    "        correct = 0\n",
    "        total = 0\n",
    "\n",
    "        for inputs, labels in test_loader:\n",
    "            inputs, labels = inputs.to(device), labels.to(device)\n",
    "\n",
    "            with torch.no_grad():\n",
    "                outputs = model(inputs)\n",
    "                pred = torch.argmax(outputs, 1)\n",
    "                test_loss = loss(outputs, labels)\n",
    "                eval_loss += test_loss.item()\n",
    "\n",
    "            total += labels.size(0)\n",
    "            correct += (pred == labels).sum().item()\n",
    "        \n",
    "        test_loss = eval_loss / len(test_loader)\n",
    "        testing_loss.append(test_loss)\n",
    "        accuracy = correct / total\n",
    "        testing_accuracy.append(accuracy)\n",
    "\n",
    "        # Save the best model\n",
    "        if epoch == 1:\n",
    "            best_accuracy = accuracy\n",
    "        else:\n",
    "            if accuracy > best_accuracy:\n",
    "                best_accuracy = accuracy\n",
    "                torch.save(model.state_dict(), 'best_model.pth')\n",
    "\n",
    "        if epoch % 5 == 0:\n",
    "            print(f'Epoch {epoch}/{n_epochs}, Training Loss: {train_loss:.4f}, Testing Loss: {test_loss:.4f}, Testing Accuracy: {accuracy:.4f}')\n",
    "\n",
    "    print('The best accuracy is:', best_accuracy)\n",
    "\n",
    "    return training_loss, testing_loss, testing_accuracy"
   ]
  },
  {
   "cell_type": "code",
   "execution_count": null,
   "metadata": {},
   "outputs": [],
   "source": [
    "training_loss, testing_loss, testing_accuracy = main(20, model, loss, optimizer, train_loader, test_loader)"
   ]
  },
  {
   "cell_type": "code",
   "execution_count": null,
   "metadata": {},
   "outputs": [],
   "source": [
    "# Plot the training and testing loss\n",
    "def plot(training_loss, testing_loss, testing_accuracy):\n",
    "    plt.figure(figsize=(16, 5))\n",
    "    plt.subplot(1, 2, 1)\n",
    "    plt.plot(training_loss, label='Training Loss')\n",
    "    plt.plot(testing_loss, label='Testing Loss')\n",
    "    plt.xlabel('Epoch')\n",
    "    plt.ylabel('Loss')\n",
    "    plt.legend()\n",
    "\n",
    "    plt.subplot(1, 2, 2)\n",
    "    plt.xlabel('Epoch')\n",
    "    plt.ylabel('Testing Accuracy')\n",
    "    plt.plot(testing_accuracy)\n",
    "    plt.show()\n",
    "\n",
    "plot(training_loss, testing_loss, testing_accuracy)"
   ]
  },
  {
   "cell_type": "markdown",
   "metadata": {},
   "source": [
    "### **Fine Tune the model**\n",
    "\n",
    "1. Batch size?\n",
    "2. Learning rate?\n",
    "3. Training epoch?\n",
    "4. Model Architecture? (Kernel numbers, Convolution Layers, Number of hidden units in FC layers...)"
   ]
  },
  {
   "cell_type": "code",
   "execution_count": null,
   "metadata": {},
   "outputs": [],
   "source": []
  },
  {
   "cell_type": "markdown",
   "metadata": {},
   "source": [
    "### **Exercise**\n",
    "Please build a CNN model to predict the labels in CIFAR-10 Dataset"
   ]
  },
  {
   "cell_type": "code",
   "execution_count": null,
   "metadata": {},
   "outputs": [],
   "source": [
    "# Load the CIFAR10 Dataset\n",
    "train_dataset = datasets.CIFAR10(root='data/', train=True, transform=transforms.ToTensor(), download=True)\n",
    "test_dataset = datasets.CIFAR10(root='data/', train=False, transform=transforms.ToTensor(), download=True)"
   ]
  },
  {
   "cell_type": "code",
   "execution_count": null,
   "metadata": {},
   "outputs": [],
   "source": [
    "# Show the shpae of CIFAR10\n",
    "print(train_dataset.data.shape)\n",
    "print(test_dataset.data.shape)"
   ]
  },
  {
   "cell_type": "code",
   "execution_count": null,
   "metadata": {},
   "outputs": [],
   "source": [
    "# Prepare the Data\n",
    "train_loader2 = dataloader.DataLoader(dataset=train_dataset, batch_size=32, shuffle=True)\n",
    "test_loader2 = dataloader.DataLoader(dataset=test_dataset, batch_size=32, shuffle=True)"
   ]
  },
  {
   "cell_type": "code",
   "execution_count": null,
   "metadata": {},
   "outputs": [],
   "source": [
    "# Show some images\n",
    "plt.figure(figsize=(5, 5))\n",
    "for i in range(9):\n",
    "    plt.subplot(3, 3, i+1)\n",
    "    plt.imshow(train_dataset.data[i])\n",
    "    plt.title(train_dataset.classes[train_dataset.targets[i]])\n",
    "    plt.axis('off')\n",
    "plt.show()"
   ]
  },
  {
   "cell_type": "code",
   "execution_count": null,
   "metadata": {},
   "outputs": [],
   "source": [
    "class CNN2(nn.Module):\n",
    "    def __init__(self):\n",
    "        super(CNN2, self).__init__()\n",
    "\n",
    "    def forward(self, x):\n",
    "        pass"
   ]
  },
  {
   "cell_type": "code",
   "execution_count": null,
   "metadata": {},
   "outputs": [],
   "source": []
  }
 ],
 "metadata": {
  "kernelspec": {
   "display_name": "torch",
   "language": "python",
   "name": "python3"
  },
  "language_info": {
   "codemirror_mode": {
    "name": "ipython",
    "version": 3
   },
   "file_extension": ".py",
   "mimetype": "text/x-python",
   "name": "python",
   "nbconvert_exporter": "python",
   "pygments_lexer": "ipython3",
   "version": "3.9.18"
  }
 },
 "nbformat": 4,
 "nbformat_minor": 2
}
